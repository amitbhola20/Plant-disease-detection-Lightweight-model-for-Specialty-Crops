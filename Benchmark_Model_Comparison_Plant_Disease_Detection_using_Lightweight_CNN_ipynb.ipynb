{
  "cells": [
    {
      "cell_type": "code",
      "execution_count": null,
      "metadata": {
        "id": "ZbaRs9K7gF_o"
      },
      "outputs": [],
      "source": [
        "import tensorflow as tf\n",
        "from tensorflow.keras.applications import (\n",
        "    VGG16, VGG19, ResNet152V2, MobileNetV2, InceptionV3, Xception,\n",
        "    DenseNet169, EfficientNetB0, EfficientNetB2, EfficientNetB3, EfficientNetB5, EfficientNetB7\n",
        ")\n",
        "from tensorflow.keras.layers import GlobalAveragePooling2D, Dense\n",
        "from tensorflow.keras.models import Model\n",
        "from tensorflow.keras.optimizers import Adam\n",
        "from tensorflow.keras.preprocessing.image import ImageDataGenerator\n"
      ]
    },
    {
      "cell_type": "code",
      "execution_count": null,
      "metadata": {
        "id": "JsEMpB4igIVn"
      },
      "outputs": [],
      "source": [
        "# Hyperparameters\n",
        "IMG_SIZE = (224, 224)\n",
        "BATCH_SIZE = 32\n",
        "EPOCHS = 50\n",
        "LEARNING_RATE = 0.001\n",
        "NUM_CLASSES = 16"
      ]
    },
    {
      "cell_type": "code",
      "execution_count": null,
      "metadata": {
        "id": "t09Gi44xhKn1"
      },
      "outputs": [],
      "source": [
        "train_dir = '/content/drive/MyDrive/Research/Data/Dataset/train'\n",
        "val_dir = '/content/drive/MyDrive/Research/Data/Dataset/validate'\n",
        "test_dir = '/content/drive/MyDrive/Research/Data/Dataset/test'"
      ]
    },
    {
      "cell_type": "code",
      "execution_count": null,
      "metadata": {
        "id": "qvHxm_lWgISD"
      },
      "outputs": [],
      "source": [
        "# Data Preprocessing\n",
        "train_datagen = ImageDataGenerator(\n",
        "    rescale=1./255,\n",
        "    rotation_range=30,\n",
        "    width_shift_range=0.1,\n",
        "    height_shift_range=0.1,\n",
        "    horizontal_flip=True,\n",
        "    fill_mode='nearest'\n",
        ")\n",
        "\n",
        "val_test_datagen = ImageDataGenerator(rescale=1./255)\n",
        "\n",
        "train_generator = train_datagen.flow_from_directory(\n",
        "    train_dir,\n",
        "    target_size=IMG_SIZE,\n",
        "    batch_size=BATCH_SIZE,\n",
        "    class_mode='categorical'\n",
        ")\n",
        "\n",
        "val_generator = val_test_datagen.flow_from_directory(\n",
        "    val_dir,\n",
        "    target_size=IMG_SIZE,\n",
        "    batch_size=BATCH_SIZE,\n",
        "    class_mode='categorical'\n",
        ")\n",
        "\n",
        "test_generator = val_test_datagen.flow_from_directory(\n",
        "    test_dir,\n",
        "    target_size=IMG_SIZE,\n",
        "    batch_size=BATCH_SIZE,\n",
        "    class_mode='categorical'\n",
        ")\n"
      ]
    },
    {
      "cell_type": "code",
      "execution_count": null,
      "metadata": {
        "id": "NyxtvbEWgIP-"
      },
      "outputs": [],
      "source": [
        "# function to create models\n",
        "def create_model(base_model):\n",
        "    x = base_model.output\n",
        "    x = GlobalAveragePooling2D()(x)\n",
        "    x = Dense(1024, activation='relu')(x)\n",
        "    predictions = Dense(NUM_CLASSES, activation='softmax')(x)\n",
        "    model = Model(inputs=base_model.input, outputs=predictions)\n",
        "\n",
        "    model.compile(optimizer=Adam(learning_rate=LEARNING_RATE),\n",
        "                  loss='categorical_crossentropy',\n",
        "                  metrics=['accuracy'])\n",
        "    return model"
      ]
    },
    {
      "cell_type": "code",
      "execution_count": null,
      "metadata": {
        "id": "GVZfwDShgIN7"
      },
      "outputs": [],
      "source": [
        "# List of models\n",
        "models = [\n",
        "    (VGG16, 'VGG16'),\n",
        "    (VGG19, 'VGG19'),\n",
        "    (ResNet152V2, 'ResNet152V2'),\n",
        "    (MobileNetV2, 'MobileNetV2'),\n",
        "    (InceptionV3, 'InceptionV3'),\n",
        "    (Xception, 'Xception'),\n",
        "    (DenseNet169, 'DenseNet169'),\n",
        "    (EfficientNetB0, 'EfficientNetB0'),\n",
        "    (EfficientNetB2, 'EfficientNetB2'),\n",
        "    (EfficientNetB3, 'EfficientNetB3'),\n",
        "    (EfficientNetB5, 'EfficientNetB5'),\n",
        "    (EfficientNetB7, 'EfficientNetB7')\n",
        "]\n"
      ]
    },
    {
      "cell_type": "code",
      "execution_count": null,
      "metadata": {
        "colab": {
          "background_save": true
        },
        "id": "oI8P9yOwgILp"
      },
      "outputs": [],
      "source": [
        "# Training and Evaluating the models\n",
        "for model_class, model_name in models:\n",
        "    print(f\"Training {model_name}...\")\n",
        "\n",
        "    base_model = model_class(weights='imagenet', include_top=False, input_shape=(*IMG_SIZE, 3))\n",
        "    model = create_model(base_model)\n",
        "\n",
        "    # Train the model\n",
        "    model.fit(\n",
        "        train_generator,\n",
        "        steps_per_epoch=train_generator.samples // BATCH_SIZE,\n",
        "        epochs=EPOCHS,\n",
        "        validation_data=val_generator,\n",
        "        validation_steps=val_generator.samples // BATCH_SIZE\n",
        "    )\n"
      ]
    },
    {
      "cell_type": "code",
      "execution_count": null,
      "metadata": {
        "id": "XFtIc4YrgIJi"
      },
      "outputs": [],
      "source": [
        "# Evaluate the model on test data\n",
        "    loss, accuracy = model.evaluate(test_generator, steps=test_generator.samples // BATCH_SIZE)\n",
        "    print(f\"{model_name} Test Accuracy: {accuracy:.4f}\")"
      ]
    }
  ],
  "metadata": {
    "colab": {
      "provenance": []
    },
    "kernelspec": {
      "display_name": "Python 3",
      "name": "python3"
    },
    "language_info": {
      "name": "python"
    }
  },
  "nbformat": 4,
  "nbformat_minor": 0
}